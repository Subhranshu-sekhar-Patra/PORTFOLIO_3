{
 "cells": [
  {
   "cell_type": "code",
   "execution_count": 1,
   "id": "a2211ac7-7d2d-4a45-abdc-85d24a28b648",
   "metadata": {},
   "outputs": [
    {
     "name": "stdout",
     "output_type": "stream",
     "text": [
      "Hello World!\n"
     ]
    }
   ],
   "source": [
    "print(\"Hello World!\")"
   ]
  },
  {
   "cell_type": "code",
   "execution_count": 3,
   "id": "4feda60c-9cc7-4c74-831c-52a856561ca9",
   "metadata": {},
   "outputs": [
    {
     "name": "stdout",
     "output_type": "stream",
     "text": [
      "Hello world in single quotes!\n"
     ]
    }
   ],
   "source": [
    "print('Hello world in single quotes!')"
   ]
  },
  {
   "cell_type": "code",
   "execution_count": 4,
   "id": "2064f206-8a0f-439c-ac46-71a43bd84d0c",
   "metadata": {},
   "outputs": [
    {
     "name": "stdout",
     "output_type": "stream",
     "text": [
      "today is a good day\n"
     ]
    }
   ],
   "source": [
    "print('today','is a good day')"
   ]
  },
  {
   "cell_type": "code",
   "execution_count": 7,
   "id": "238043bc-a8ca-4470-b0b8-d678c35d560d",
   "metadata": {},
   "outputs": [
    {
     "name": "stdout",
     "output_type": "stream",
     "text": [
      "Good morning Brandon!\n"
     ]
    }
   ],
   "source": [
    "print('Good morning', end = ' ')\n",
    "print('Brandon!')"
   ]
  },
  {
   "cell_type": "code",
   "execution_count": 8,
   "id": "91db2ec3-2ea9-4a3e-883c-a24b68380435",
   "metadata": {},
   "outputs": [
    {
     "name": "stdout",
     "output_type": "stream",
     "text": [
      "Good night , brandon\n"
     ]
    }
   ],
   "source": [
    "print('Good night', 'brandon' , sep = ' , ')"
   ]
  },
  {
   "cell_type": "code",
   "execution_count": 9,
   "id": "f87bff12-193d-44bb-8d8c-cf3f181916ca",
   "metadata": {},
   "outputs": [
    {
     "data": {
      "text/plain": [
       "8"
      ]
     },
     "execution_count": 9,
     "metadata": {},
     "output_type": "execute_result"
    }
   ],
   "source": [
    "8\n"
   ]
  },
  {
   "cell_type": "code",
   "execution_count": 10,
   "id": "0549eaea-996e-418f-877a-8b9db808e5c4",
   "metadata": {},
   "outputs": [
    {
     "data": {
      "text/plain": [
       "-1"
      ]
     },
     "execution_count": 10,
     "metadata": {},
     "output_type": "execute_result"
    }
   ],
   "source": [
    "-1"
   ]
  },
  {
   "cell_type": "code",
   "execution_count": 11,
   "id": "306d8e2d-bde9-40df-a19a-e62e99d84eef",
   "metadata": {},
   "outputs": [
    {
     "data": {
      "text/plain": [
       "5"
      ]
     },
     "execution_count": 11,
     "metadata": {},
     "output_type": "execute_result"
    }
   ],
   "source": [
    "2+3"
   ]
  },
  {
   "cell_type": "code",
   "execution_count": 12,
   "id": "84e07faf-df34-48e3-9b03-928e60795a8a",
   "metadata": {},
   "outputs": [
    {
     "data": {
      "text/plain": [
       "-1"
      ]
     },
     "execution_count": 12,
     "metadata": {},
     "output_type": "execute_result"
    }
   ],
   "source": [
    "5-6"
   ]
  },
  {
   "cell_type": "code",
   "execution_count": 13,
   "id": "9d68bf0a-a319-4721-ba59-34db56b35e23",
   "metadata": {},
   "outputs": [
    {
     "data": {
      "text/plain": [
       "-4"
      ]
     },
     "execution_count": 13,
     "metadata": {},
     "output_type": "execute_result"
    }
   ],
   "source": [
    "3+5-2*6"
   ]
  },
  {
   "cell_type": "code",
   "execution_count": 14,
   "id": "39338b95-e96c-4d97-a3dc-1c301163a155",
   "metadata": {},
   "outputs": [
    {
     "data": {
      "text/plain": [
       "36"
      ]
     },
     "execution_count": 14,
     "metadata": {},
     "output_type": "execute_result"
    }
   ],
   "source": [
    "(3+5-2)*6"
   ]
  },
  {
   "cell_type": "code",
   "execution_count": 15,
   "id": "a7376b4f-34ee-4a89-8868-19a50ea81ae5",
   "metadata": {},
   "outputs": [
    {
     "data": {
      "text/plain": [
       "int"
      ]
     },
     "execution_count": 15,
     "metadata": {},
     "output_type": "execute_result"
    }
   ],
   "source": [
    "type(66)"
   ]
  },
  {
   "cell_type": "code",
   "execution_count": 16,
   "id": "efe94c66-a682-4918-ac0e-548d254eff65",
   "metadata": {},
   "outputs": [
    {
     "data": {
      "text/plain": [
       "1.3"
      ]
     },
     "execution_count": 16,
     "metadata": {},
     "output_type": "execute_result"
    }
   ],
   "source": [
    "1.3"
   ]
  },
  {
   "cell_type": "code",
   "execution_count": 17,
   "id": "adbcf4de-ee2b-4bdb-9f4e-ae777be871a8",
   "metadata": {},
   "outputs": [
    {
     "data": {
      "text/plain": [
       "23.0"
      ]
     },
     "execution_count": 17,
     "metadata": {},
     "output_type": "execute_result"
    }
   ],
   "source": [
    "23.0"
   ]
  },
  {
   "cell_type": "code",
   "execution_count": 18,
   "id": "3e290719-53c3-4333-83ff-a3d5b6915149",
   "metadata": {},
   "outputs": [
    {
     "data": {
      "text/plain": [
       "-5.1"
      ]
     },
     "execution_count": 18,
     "metadata": {},
     "output_type": "execute_result"
    }
   ],
   "source": [
    "-5.1"
   ]
  },
  {
   "cell_type": "code",
   "execution_count": 19,
   "id": "036b4bff-5098-447e-afd4-e59aae3fcd60",
   "metadata": {},
   "outputs": [
    {
     "data": {
      "text/plain": [
       "5.5"
      ]
     },
     "execution_count": 19,
     "metadata": {},
     "output_type": "execute_result"
    }
   ],
   "source": [
    "2+3.5"
   ]
  },
  {
   "cell_type": "code",
   "execution_count": 20,
   "id": "2c6e6390-6735-4674-85b7-73bbba8b3e2f",
   "metadata": {},
   "outputs": [
    {
     "data": {
      "text/plain": [
       "2.692307692307692"
      ]
     },
     "execution_count": 20,
     "metadata": {},
     "output_type": "execute_result"
    }
   ],
   "source": [
    "7/2.6"
   ]
  },
  {
   "cell_type": "code",
   "execution_count": 21,
   "id": "a13fffc2-2f66-4620-8f01-68529938e434",
   "metadata": {},
   "outputs": [
    {
     "data": {
      "text/plain": [
       "float"
      ]
     },
     "execution_count": 21,
     "metadata": {},
     "output_type": "execute_result"
    }
   ],
   "source": [
    "type(0.1)"
   ]
  },
  {
   "cell_type": "code",
   "execution_count": 22,
   "id": "1a2dfcce-08ea-4db2-85b8-1f2ff9023c95",
   "metadata": {},
   "outputs": [
    {
     "data": {
      "text/plain": [
       "1.5"
      ]
     },
     "execution_count": 22,
     "metadata": {},
     "output_type": "execute_result"
    }
   ],
   "source": [
    "3/2"
   ]
  },
  {
   "cell_type": "markdown",
   "id": "2455c702-ef8f-4b7b-b4e9-f4d56e782669",
   "metadata": {},
   "source": [
    "OPERATOR"
   ]
  },
  {
   "cell_type": "code",
   "execution_count": 23,
   "id": "346cc270-bf91-4aa1-9ec7-6eebd058eceb",
   "metadata": {},
   "outputs": [
    {
     "data": {
      "text/plain": [
       "1.55"
      ]
     },
     "execution_count": 23,
     "metadata": {},
     "output_type": "execute_result"
    }
   ],
   "source": [
    "3.1/2"
   ]
  },
  {
   "cell_type": "code",
   "execution_count": 24,
   "id": "5720a5b4-3828-4b85-8458-6d3e9cb2e4e6",
   "metadata": {},
   "outputs": [
    {
     "data": {
      "text/plain": [
       "1.0"
      ]
     },
     "execution_count": 24,
     "metadata": {},
     "output_type": "execute_result"
    }
   ],
   "source": [
    "3.1//2"
   ]
  },
  {
   "cell_type": "code",
   "execution_count": 25,
   "id": "677622f1-e840-4702-8bbd-00721fe2901a",
   "metadata": {},
   "outputs": [
    {
     "data": {
      "text/plain": [
       "1"
      ]
     },
     "execution_count": 25,
     "metadata": {},
     "output_type": "execute_result"
    }
   ],
   "source": [
    "3%2"
   ]
  },
  {
   "cell_type": "code",
   "execution_count": 26,
   "id": "720eb206-1df3-44c6-a785-edd2e03d46af",
   "metadata": {},
   "outputs": [
    {
     "data": {
      "text/plain": [
       "0"
      ]
     },
     "execution_count": 26,
     "metadata": {},
     "output_type": "execute_result"
    }
   ],
   "source": [
    "4%2"
   ]
  },
  {
   "cell_type": "code",
   "execution_count": 27,
   "id": "7220d747-ba16-48a5-9dcb-7aaf3619f92f",
   "metadata": {},
   "outputs": [
    {
     "data": {
      "text/plain": [
       "False"
      ]
     },
     "execution_count": 27,
     "metadata": {},
     "output_type": "execute_result"
    }
   ],
   "source": [
    "1 == 2"
   ]
  },
  {
   "cell_type": "code",
   "execution_count": 28,
   "id": "c658ca16-9957-4e6b-8121-b6d99645c64b",
   "metadata": {},
   "outputs": [
    {
     "data": {
      "text/plain": [
       "True"
      ]
     },
     "execution_count": 28,
     "metadata": {},
     "output_type": "execute_result"
    }
   ],
   "source": [
    "1<2"
   ]
  },
  {
   "cell_type": "code",
   "execution_count": 29,
   "id": "1f8fb1b1-bfc8-4861-a92b-9672d47e0f21",
   "metadata": {},
   "outputs": [
    {
     "data": {
      "text/plain": [
       "True"
      ]
     },
     "execution_count": 29,
     "metadata": {},
     "output_type": "execute_result"
    }
   ],
   "source": [
    "1.2 == 1.2"
   ]
  },
  {
   "cell_type": "code",
   "execution_count": 30,
   "id": "bcfe4376-cf1b-41d5-9d7b-a0c9418233b9",
   "metadata": {},
   "outputs": [
    {
     "data": {
      "text/plain": [
       "True"
      ]
     },
     "execution_count": 30,
     "metadata": {},
     "output_type": "execute_result"
    }
   ],
   "source": [
    "1.2<= 1.2"
   ]
  },
  {
   "cell_type": "code",
   "execution_count": 31,
   "id": "75889eab-3ad5-4303-98bd-5d69ca59652d",
   "metadata": {},
   "outputs": [
    {
     "data": {
      "text/plain": [
       "True"
      ]
     },
     "execution_count": 31,
     "metadata": {},
     "output_type": "execute_result"
    }
   ],
   "source": [
    "'car' == 'car'"
   ]
  },
  {
   "cell_type": "code",
   "execution_count": 32,
   "id": "b7cc7dd8-7c15-44be-a763-eddf56973c19",
   "metadata": {},
   "outputs": [
    {
     "data": {
      "text/plain": [
       "False"
      ]
     },
     "execution_count": 32,
     "metadata": {},
     "output_type": "execute_result"
    }
   ],
   "source": [
    "'Car' == 'car'"
   ]
  },
  {
   "cell_type": "code",
   "execution_count": 33,
   "id": "bd99fa0a-d389-4616-b743-132dc964138b",
   "metadata": {},
   "outputs": [
    {
     "data": {
      "text/plain": [
       "True"
      ]
     },
     "execution_count": 33,
     "metadata": {},
     "output_type": "execute_result"
    }
   ],
   "source": [
    "'1' != 1"
   ]
  },
  {
   "cell_type": "code",
   "execution_count": 35,
   "id": "80fffa09-73c9-4c23-ae79-4069e06cfe74",
   "metadata": {},
   "outputs": [
    {
     "data": {
      "text/plain": [
       "False"
      ]
     },
     "execution_count": 35,
     "metadata": {},
     "output_type": "execute_result"
    }
   ],
   "source": [
    "bool(False)"
   ]
  },
  {
   "cell_type": "code",
   "execution_count": 38,
   "id": "8b491b52-2584-4a6a-82e9-c172a0443723",
   "metadata": {},
   "outputs": [
    {
     "data": {
      "text/plain": [
       "True"
      ]
     },
     "execution_count": 38,
     "metadata": {},
     "output_type": "execute_result"
    }
   ],
   "source": [
    "bool(True)"
   ]
  },
  {
   "cell_type": "code",
   "execution_count": 39,
   "id": "8db92620-fe66-42eb-b06e-0213ff85bdc9",
   "metadata": {},
   "outputs": [
    {
     "data": {
      "text/plain": [
       "False"
      ]
     },
     "execution_count": 39,
     "metadata": {},
     "output_type": "execute_result"
    }
   ],
   "source": [
    "bool(0)"
   ]
  },
  {
   "cell_type": "code",
   "execution_count": 40,
   "id": "4fc25ce6-5e08-40a6-ae20-8716abe62460",
   "metadata": {},
   "outputs": [
    {
     "data": {
      "text/plain": [
       "False"
      ]
     },
     "execution_count": 40,
     "metadata": {},
     "output_type": "execute_result"
    }
   ],
   "source": [
    "bool(7 == 0)"
   ]
  },
  {
   "cell_type": "code",
   "execution_count": 41,
   "id": "cf464341-d584-45c6-82dc-197f27cd69b7",
   "metadata": {},
   "outputs": [
    {
     "data": {
      "text/plain": [
       "True"
      ]
     },
     "execution_count": 41,
     "metadata": {},
     "output_type": "execute_result"
    }
   ],
   "source": [
    "500002 % 2==0"
   ]
  },
  {
   "cell_type": "code",
   "execution_count": 42,
   "id": "17a2bb70-8f44-4fff-bb09-8b9be2fe4acb",
   "metadata": {},
   "outputs": [
    {
     "data": {
      "text/plain": [
       "True"
      ]
     },
     "execution_count": 42,
     "metadata": {},
     "output_type": "execute_result"
    }
   ],
   "source": [
    "500003 % 2 == 1"
   ]
  },
  {
   "cell_type": "markdown",
   "id": "d17f0bad-0952-4efc-86e8-83a9f5c9995e",
   "metadata": {},
   "source": [
    "STRING"
   ]
  },
  {
   "cell_type": "code",
   "execution_count": 43,
   "id": "b620d484-75e8-4dca-bde8-3be5b36bc825",
   "metadata": {},
   "outputs": [
    {
     "data": {
      "text/plain": [
       "'Nice!'"
      ]
     },
     "execution_count": 43,
     "metadata": {},
     "output_type": "execute_result"
    }
   ],
   "source": [
    "'Nice!'"
   ]
  },
  {
   "cell_type": "code",
   "execution_count": 44,
   "id": "94e347bd-619e-4917-b5d5-7566763eb924",
   "metadata": {},
   "outputs": [
    {
     "data": {
      "text/plain": [
       "True"
      ]
     },
     "execution_count": 44,
     "metadata": {},
     "output_type": "execute_result"
    }
   ],
   "source": [
    "'Nice!' == 'Nice!'"
   ]
  },
  {
   "cell_type": "code",
   "execution_count": 45,
   "id": "a537e924-fdc1-48c7-8b2d-c873824c5935",
   "metadata": {},
   "outputs": [
    {
     "data": {
      "text/plain": [
       "'WoW! python is so cool!'"
      ]
     },
     "execution_count": 45,
     "metadata": {},
     "output_type": "execute_result"
    }
   ],
   "source": [
    "'WoW! '  +  'python is so cool!'"
   ]
  },
  {
   "cell_type": "code",
   "execution_count": 46,
   "id": "d265ed42-99ec-4b84-93f1-f58c896339b7",
   "metadata": {},
   "outputs": [
    {
     "data": {
      "text/plain": [
       "str"
      ]
     },
     "execution_count": 46,
     "metadata": {},
     "output_type": "execute_result"
    }
   ],
   "source": [
    "type('yes')"
   ]
  },
  {
   "cell_type": "code",
   "execution_count": 47,
   "id": "7844746c-ba47-4301-9d01-03dc1b496540",
   "metadata": {},
   "outputs": [
    {
     "data": {
      "text/plain": [
       "int"
      ]
     },
     "execution_count": 47,
     "metadata": {},
     "output_type": "execute_result"
    }
   ],
   "source": [
    "type(103)"
   ]
  },
  {
   "cell_type": "code",
   "execution_count": 48,
   "id": "b1961d9e-5ab8-48c8-880e-d9451d3d50fd",
   "metadata": {},
   "outputs": [
    {
     "name": "stdout",
     "output_type": "stream",
     "text": [
      "name Brandon Krakowaky\n"
     ]
    }
   ],
   "source": [
    "print('name' , 'Brandon' , 'Krakowaky')"
   ]
  },
  {
   "cell_type": "code",
   "execution_count": 49,
   "id": "f973cd39-a4e6-44e4-94ad-a939e3147345",
   "metadata": {},
   "outputs": [
    {
     "name": "stdout",
     "output_type": "stream",
     "text": [
      "brandon' a last name is krakowaky\n"
     ]
    }
   ],
   "source": [
    "print('brandon\\' a last name is krakowaky')"
   ]
  },
  {
   "cell_type": "code",
   "execution_count": 50,
   "id": "1a8f8c41-63b1-41bd-af1f-30a192c15465",
   "metadata": {},
   "outputs": [
    {
     "data": {
      "text/plain": [
       "19"
      ]
     },
     "execution_count": 50,
     "metadata": {},
     "output_type": "execute_result"
    }
   ],
   "source": [
    "int(12374/621)"
   ]
  },
  {
   "cell_type": "code",
   "execution_count": 51,
   "id": "289facd1-083a-4149-8084-2f21a74452d6",
   "metadata": {},
   "outputs": [
    {
     "data": {
      "text/plain": [
       "20"
      ]
     },
     "execution_count": 51,
     "metadata": {},
     "output_type": "execute_result"
    }
   ],
   "source": [
    "round(12374/621)"
   ]
  },
  {
   "cell_type": "code",
   "execution_count": 52,
   "id": "6e55bdb1-a221-4ed7-8c38-e56c4fee5414",
   "metadata": {},
   "outputs": [
    {
     "data": {
      "text/plain": [
       "1"
      ]
     },
     "execution_count": 52,
     "metadata": {},
     "output_type": "execute_result"
    }
   ],
   "source": [
    "int('1')"
   ]
  },
  {
   "cell_type": "code",
   "execution_count": 53,
   "id": "b9cdbcdf-a71f-4c64-af86-7cb170a96315",
   "metadata": {},
   "outputs": [
    {
     "name": "stdout",
     "output_type": "stream",
     "text": [
      "2.0\n"
     ]
    }
   ],
   "source": [
    "print(4/2)"
   ]
  },
  {
   "cell_type": "code",
   "execution_count": 54,
   "id": "a64e4e3c-e31b-47ab-929a-fe1f0dee5719",
   "metadata": {},
   "outputs": [
    {
     "name": "stdout",
     "output_type": "stream",
     "text": [
      "4 % 2 = 0\n"
     ]
    }
   ],
   "source": [
    "print('4 % 2 =' , 4%2)"
   ]
  },
  {
   "cell_type": "code",
   "execution_count": 55,
   "id": "fc695cbb-c0a4-4455-ab7f-2fb8e4bcaa63",
   "metadata": {},
   "outputs": [
    {
     "name": "stdout",
     "output_type": "stream",
     "text": [
      "4 % 2 = 0\n"
     ]
    }
   ],
   "source": [
    "print('4 % 2 =' , + 4 % 2)"
   ]
  },
  {
   "cell_type": "code",
   "execution_count": 56,
   "id": "f5ba5392-205e-4c8b-8a40-3e919dca5137",
   "metadata": {},
   "outputs": [
    {
     "name": "stdout",
     "output_type": "stream",
     "text": [
      "4 % 2= 0\n"
     ]
    }
   ],
   "source": [
    "print('4 % 2=', str(4 % 2))"
   ]
  },
  {
   "cell_type": "code",
   "execution_count": 57,
   "id": "819740e0-d17d-443d-b397-91282b6a21df",
   "metadata": {},
   "outputs": [
    {
     "name": "stdout",
     "output_type": "stream",
     "text": [
      "is 4 even? True\n"
     ]
    }
   ],
   "source": [
    "print('is 4 even? ' +str(4 %2 == 0))"
   ]
  },
  {
   "cell_type": "code",
   "execution_count": 3,
   "id": "00529d1f-7aa9-4ae8-a14c-7f77e4fd3f0d",
   "metadata": {},
   "outputs": [
    {
     "name": "stdout",
     "output_type": "stream",
     "text": [
      "<class 'int'>\n"
     ]
    }
   ],
   "source": [
    "print(type(123-456-7890))"
   ]
  },
  {
   "cell_type": "code",
   "execution_count": null,
   "id": "584d1398-0bf1-41ef-b475-a07385d51077",
   "metadata": {},
   "outputs": [],
   "source": []
  }
 ],
 "metadata": {
  "kernelspec": {
   "display_name": "Python 3 (ipykernel)",
   "language": "python",
   "name": "python3"
  },
  "language_info": {
   "codemirror_mode": {
    "name": "ipython",
    "version": 3
   },
   "file_extension": ".py",
   "mimetype": "text/x-python",
   "name": "python",
   "nbconvert_exporter": "python",
   "pygments_lexer": "ipython3",
   "version": "3.12.4"
  }
 },
 "nbformat": 4,
 "nbformat_minor": 5
}
